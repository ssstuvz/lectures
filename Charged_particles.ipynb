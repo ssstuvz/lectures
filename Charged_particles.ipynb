{
 "metadata": {
  "name": "",
  "signature": "sha256:e3a8faa504cfbb39f3ed55e82e50c8e846c20cf1f852f1795c4d5190987a8ccd"
 },
 "nbformat": 3,
 "nbformat_minor": 0,
 "worksheets": [
  {
   "cells": [
    {
     "cell_type": "markdown",
     "metadata": {},
     "source": [
      "#Charged particles in electromagnetic fields\n",
      "\n",
      "##Dr. Sergey Rykovanov, Helmholtz Institute Jena\n",
      "\n",
      "Email: s.rykovanov@gsi.de\n",
      "\n",
      "Lecture notes are available at: github"
     ]
    },
    {
     "cell_type": "markdown",
     "metadata": {},
     "source": [
      "* It is very important to know how charged particles behave in e-m fields\n",
      "* Examples: cyclotron motion in static magnetic field, linear rf-accelerators, electrons in electro-magnetic waves, such as laser pulses, microwave and rf-pulses, mixed fields\n",
      "\n",
      "Today we will study 3 widely used examples:\n",
      "1. Electron in static electric field\n",
      "2. Electron in static magnetic field\n",
      "3. Electron in plane wave (i.e. plane laser pulse)\n",
      "\n",
      "Units: CGS"
     ]
    },
    {
     "cell_type": "markdown",
     "metadata": {},
     "source": [
      "Brief repeat of special relativity\n",
      "----------------------------------\n",
      "\n",
      "[Special relativity](http://en.wikipedia.org/wiki/Special_relativity) is based on 2 main principles:\n",
      "\n",
      "1. **Principle of relativity**: *The laws by which the states of physical systems undergo change are not affected, whether these changes of state be referred to the one or the other of two systems in uniform translatory motion relative to each other.*\n",
      "2. **Principle of invariant light speed**: *Light in vacuum propagates with the speed c (a fixed constant, independent of direction).*"
     ]
    },
    {
     "cell_type": "code",
     "collapsed": false,
     "input": [],
     "language": "python",
     "metadata": {},
     "outputs": []
    }
   ],
   "metadata": {}
  }
 ]
}