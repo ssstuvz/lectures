{
 "metadata": {
  "name": "",
  "signature": "sha256:dfe4ad71f185db37b90bc8e8c7aa7c39a4402cf4415ba5ecc4f06449f1995df7"
 },
 "nbformat": 3,
 "nbformat_minor": 0,
 "worksheets": [
  {
   "cells": [
    {
     "cell_type": "markdown",
     "metadata": {},
     "source": [
      "#Lecture notes by Sergey Rykovanov\n",
      "\n",
      "## 1. [Charged particle in electromagnetic fields](Charged_particles.html)\n",
      "## 2. [Special relativity cheat sheet](Cheat_sheet.html)"
     ]
    }
   ],
   "metadata": {}
  }
 ]
}